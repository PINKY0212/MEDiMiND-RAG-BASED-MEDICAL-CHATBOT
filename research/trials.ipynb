{
 "cells": [
  {
   "cell_type": "code",
   "execution_count": 1,
   "metadata": {},
   "outputs": [],
   "source": [
    "import os"
   ]
  },
  {
   "cell_type": "code",
   "execution_count": 2,
   "metadata": {},
   "outputs": [
    {
     "data": {
      "text/plain": [
       "'/home/kaustubh/Projects/Medical-Chat-Bot/research'"
      ]
     },
     "execution_count": 2,
     "metadata": {},
     "output_type": "execute_result"
    }
   ],
   "source": [
    "%pwd"
   ]
  },
  {
   "cell_type": "code",
   "execution_count": 3,
   "metadata": {},
   "outputs": [],
   "source": [
    "os.chdir('..')"
   ]
  },
  {
   "cell_type": "code",
   "execution_count": 4,
   "metadata": {},
   "outputs": [],
   "source": [
    "from langchain.document_loaders import PyPDFLoader, DirectoryLoader\n",
    "from langchain.text_splitter import RecursiveCharacterTextSplitter\n",
    "from tqdm import tqdm"
   ]
  },
  {
   "cell_type": "code",
   "execution_count": 5,
   "metadata": {},
   "outputs": [],
   "source": [
    "# Extract data from Pdf file\n",
    "def load_pdf_file(data):\n",
    "    loader= DirectoryLoader(data,glob='*.pdf',loader_cls=PyPDFLoader)\n",
    "\n",
    "    documents=loader.load()\n",
    "    return documents"
   ]
  },
  {
   "cell_type": "code",
   "execution_count": 6,
   "metadata": {},
   "outputs": [],
   "source": [
    "extracted_data = load_pdf_file(data='Data/')"
   ]
  },
  {
   "cell_type": "code",
   "execution_count": 7,
   "metadata": {},
   "outputs": [],
   "source": [
    "# extracted_data"
   ]
  },
  {
   "cell_type": "code",
   "execution_count": 1,
   "metadata": {},
   "outputs": [],
   "source": [
    "# Split the data into Text Chunks\n",
    "\n",
    "MARKDOWN_SEPARATORS = [\n",
    "    \"\\n#{1,6} \",\n",
    "    \"```\\n\",\n",
    "    \"\\n\\\\*\\\\*\\\\*+\\n\",\n",
    "    \"\\n---+\\n\",\n",
    "    \"\\n___+\\n\",\n",
    "    \"\\n\\n\",\n",
    "    \"\\n\",\n",
    "    \" \",\n",
    "    \"\",\n",
    "]\n",
    "\n",
    "def text_split(extracted_data):\n",
    "    text_splitter=RecursiveCharacterTextSplitter(chunk_size=512, chunk_overlap=40, \n",
    "                                                 separators=MARKDOWN_SEPARATORS, strip_whitespace=True)\n",
    "    text_chunks=text_splitter.split_documents(extracted_data)\n",
    "    return text_chunks"
   ]
  },
  {
   "cell_type": "code",
   "execution_count": 2,
   "metadata": {},
   "outputs": [
    {
     "ename": "NameError",
     "evalue": "name 'extracted_data' is not defined",
     "output_type": "error",
     "traceback": [
      "\u001b[0;31m---------------------------------------------------------------------------\u001b[0m",
      "\u001b[0;31mNameError\u001b[0m                                 Traceback (most recent call last)",
      "Cell \u001b[0;32mIn[2], line 1\u001b[0m\n\u001b[0;32m----> 1\u001b[0m text_chunks\u001b[38;5;241m=\u001b[39mtext_split(\u001b[43mextracted_data\u001b[49m)\n\u001b[1;32m      2\u001b[0m \u001b[38;5;28mprint\u001b[39m(\u001b[38;5;124m\"\u001b[39m\u001b[38;5;124mLength of Text Chunks\u001b[39m\u001b[38;5;124m\"\u001b[39m, \u001b[38;5;28mlen\u001b[39m(text_chunks))\n",
      "\u001b[0;31mNameError\u001b[0m: name 'extracted_data' is not defined"
     ]
    }
   ],
   "source": [
    "text_chunks=text_split(extracted_data)\n",
    "print(\"Length of Text Chunks\", len(text_chunks))"
   ]
  },
  {
   "cell_type": "code",
   "execution_count": 23,
   "metadata": {},
   "outputs": [
    {
     "data": {
      "text/plain": [
       "Document(metadata={'source': 'Data/Gale Encyclopedia of Medicine Vol. 4 (N-S).pdf', 'page': 657}, page_content='Description\\nInfections associated with worms present some of\\nthe most universal health problems in the world. In fact,only malaria accounts for more diseases than schistoso-')"
      ]
     },
     "execution_count": 23,
     "metadata": {},
     "output_type": "execute_result"
    }
   ],
   "source": [
    "text_chunks[10000]"
   ]
  },
  {
   "cell_type": "code",
   "execution_count": 5,
   "metadata": {},
   "outputs": [],
   "source": [
    "from langchain.embeddings import HuggingFaceBgeEmbeddings"
   ]
  },
  {
   "cell_type": "code",
   "execution_count": 11,
   "metadata": {},
   "outputs": [
    {
     "name": "stderr",
     "output_type": "stream",
     "text": [
      "The cache for model files in Transformers v4.22.0 has been updated. Migrating your old cache. This is a one-time only operation. You can interrupt this and resume the migration later on by calling `transformers.utils.move_cache()`.\n",
      "0it [00:00, ?it/s]\n"
     ]
    },
    {
     "name": "stdout",
     "output_type": "stream",
     "text": [
      "Model's maximum sequence length: 384\n"
     ]
    }
   ],
   "source": [
    "from sentence_transformers import SentenceTransformer\n",
    "\n",
    "print(f\"Model's maximum sequence length: {SentenceTransformer('sentence-transformers/all-mpnet-base-v2').max_seq_length}\")"
   ]
  },
  {
   "cell_type": "code",
   "execution_count": 12,
   "metadata": {},
   "outputs": [],
   "source": [
    "# Download the Embeddings from Hugging Face\n",
    "def download_hugging_face_embeddings():\n",
    "    embeddings= HuggingFaceBgeEmbeddings(model_name='sentence-transformers/all-mpnet-base-v2')\n",
    "    return embeddings"
   ]
  },
  {
   "cell_type": "code",
   "execution_count": 13,
   "metadata": {},
   "outputs": [],
   "source": [
    "embeddings = download_hugging_face_embeddings()"
   ]
  },
  {
   "cell_type": "code",
   "execution_count": 14,
   "metadata": {},
   "outputs": [
    {
     "data": {
      "text/plain": [
       "HuggingFaceBgeEmbeddings(client=SentenceTransformer(\n",
       "  (0): Transformer({'max_seq_length': 384, 'do_lower_case': False}) with Transformer model: MPNetModel \n",
       "  (1): Pooling({'word_embedding_dimension': 768, 'pooling_mode_cls_token': False, 'pooling_mode_mean_tokens': True, 'pooling_mode_max_tokens': False, 'pooling_mode_mean_sqrt_len_tokens': False, 'pooling_mode_weightedmean_tokens': False, 'pooling_mode_lasttoken': False, 'include_prompt': True})\n",
       "  (2): Normalize()\n",
       "), model_name='sentence-transformers/all-mpnet-base-v2', cache_folder=None, model_kwargs={}, encode_kwargs={}, query_instruction='Represent this question for searching relevant passages: ', embed_instruction='', show_progress=False)"
      ]
     },
     "execution_count": 14,
     "metadata": {},
     "output_type": "execute_result"
    }
   ],
   "source": [
    "embeddings"
   ]
  },
  {
   "cell_type": "code",
   "execution_count": 31,
   "metadata": {},
   "outputs": [
    {
     "name": "stdout",
     "output_type": "stream",
     "text": [
      "Length of Query Result 768\n"
     ]
    }
   ],
   "source": [
    "query_result = embeddings.embed_query(\"Hello AI\")\n",
    "print(\"Length of Query Result\", len(query_result))"
   ]
  },
  {
   "cell_type": "code",
   "execution_count": 15,
   "metadata": {},
   "outputs": [],
   "source": [
    "# query_result"
   ]
  },
  {
   "cell_type": "code",
   "execution_count": 6,
   "metadata": {},
   "outputs": [
    {
     "data": {
      "text/plain": [
       "True"
      ]
     },
     "execution_count": 6,
     "metadata": {},
     "output_type": "execute_result"
    }
   ],
   "source": [
    "from dotenv import load_dotenv\n",
    "\n",
    "load_dotenv()"
   ]
  },
  {
   "cell_type": "code",
   "execution_count": 7,
   "metadata": {},
   "outputs": [],
   "source": [
    "PINECONE_API_KEY = os.environ.get(\"PINECONE_API_KEY\")"
   ]
  },
  {
   "cell_type": "code",
   "execution_count": 34,
   "metadata": {},
   "outputs": [],
   "source": [
    "from pinecone import ServerlessSpec\n",
    "from pinecone.grpc import PineconeGRPC as Pinecone\n",
    "\n",
    "pc = Pinecone(api_key=PINECONE_API_KEY)\n",
    "\n",
    "index_name = \"medichatbot\"\n",
    "\n",
    "pc.create_index(\n",
    "    name=index_name,\n",
    "    dimension=768,\n",
    "    metric=\"cosine\",\n",
    "    spec=ServerlessSpec(\n",
    "        cloud=\"aws\",\n",
    "        region=\"us-east-1\"\n",
    "    ) \n",
    ")"
   ]
  },
  {
   "cell_type": "code",
   "execution_count": 8,
   "metadata": {},
   "outputs": [],
   "source": [
    "os.environ[\"PINECONE_API_KEY\"]=PINECONE_API_KEY"
   ]
  },
  {
   "cell_type": "code",
   "execution_count": 16,
   "metadata": {},
   "outputs": [],
   "source": [
    "index_name='medichatbot'"
   ]
  },
  {
   "cell_type": "code",
   "execution_count": 10,
   "metadata": {},
   "outputs": [
    {
     "name": "stderr",
     "output_type": "stream",
     "text": [
      "/home/kaustubh/Projects/Medical-Chat-Bot/medibot/lib/python3.12/site-packages/pinecone/data/index.py:1: TqdmWarning: IProgress not found. Please update jupyter and ipywidgets. See https://ipywidgets.readthedocs.io/en/stable/user_install.html\n",
      "  from tqdm.autonotebook import tqdm\n"
     ]
    },
    {
     "ename": "NameError",
     "evalue": "name 'text_chunks' is not defined",
     "output_type": "error",
     "traceback": [
      "\u001b[0;31m---------------------------------------------------------------------------\u001b[0m",
      "\u001b[0;31mNameError\u001b[0m                                 Traceback (most recent call last)",
      "Cell \u001b[0;32mIn[10], line 5\u001b[0m\n\u001b[1;32m      1\u001b[0m \u001b[38;5;66;03m# Embed each chunk and insert the embeddings into your Pinecone Index.\u001b[39;00m\n\u001b[1;32m      2\u001b[0m \u001b[38;5;28;01mfrom\u001b[39;00m \u001b[38;5;21;01mlangchain_pinecone\u001b[39;00m \u001b[38;5;28;01mimport\u001b[39;00m PineconeVectorStore\n\u001b[1;32m      4\u001b[0m docsearch \u001b[38;5;241m=\u001b[39m PineconeVectorStore\u001b[38;5;241m.\u001b[39mfrom_documents(\n\u001b[0;32m----> 5\u001b[0m     documents\u001b[38;5;241m=\u001b[39m\u001b[43mtext_chunks\u001b[49m,\n\u001b[1;32m      6\u001b[0m     index_name\u001b[38;5;241m=\u001b[39mindex_name,\n\u001b[1;32m      7\u001b[0m     embedding\u001b[38;5;241m=\u001b[39membeddings\n\u001b[1;32m      8\u001b[0m )\n",
      "\u001b[0;31mNameError\u001b[0m: name 'text_chunks' is not defined"
     ]
    }
   ],
   "source": [
    "# Embed each chunk and insert the embeddings into your Pinecone Index.\n",
    "from langchain_pinecone import PineconeVectorStore\n",
    "\n",
    "docsearch = PineconeVectorStore.from_documents(\n",
    "    documents=text_chunks,\n",
    "    index_name=index_name,\n",
    "    embedding=embeddings\n",
    ")"
   ]
  },
  {
   "cell_type": "code",
   "execution_count": 17,
   "metadata": {},
   "outputs": [],
   "source": [
    "# Load existing index\n",
    "\n",
    "from langchain_pinecone import PineconeVectorStore\n",
    "\n",
    "docsearch = PineconeVectorStore.from_existing_index(\n",
    "    index_name=index_name,\n",
    "    embedding=embeddings\n",
    ")"
   ]
  },
  {
   "cell_type": "code",
   "execution_count": 18,
   "metadata": {},
   "outputs": [
    {
     "data": {
      "text/plain": [
       "<langchain_pinecone.vectorstores.PineconeVectorStore at 0x7f432c1e3a40>"
      ]
     },
     "execution_count": 18,
     "metadata": {},
     "output_type": "execute_result"
    }
   ],
   "source": [
    "docsearch"
   ]
  },
  {
   "cell_type": "code",
   "execution_count": 28,
   "metadata": {},
   "outputs": [],
   "source": [
    "retriever = docsearch.as_retriever(search_type='similarity', search_kwargs={\"k\": 5})"
   ]
  },
  {
   "cell_type": "code",
   "execution_count": 41,
   "metadata": {},
   "outputs": [
    {
     "data": {
      "text/plain": [
       "[Document(id='77d9953a-ab7d-4620-87b8-83a86eedd7e2', metadata={'page': 923.0, 'source': 'Data/Gale Encyclopedia of Medicine Vol. 4 (N-S).pdf'}, page_content='1998, 09B.\\nPion, Ira A. “Educating Children and Parents About Sun Pro-\\ntection.” Dermatology Nursing 8 (1 Feb. 1996): 29-37.\\nTyler, Varro. “Aloe: Nature’s Skin Soother.” Prevention Maga-\\nzine, 1 Apr. 1998, 94-96.\\nCarol A. Turkington\\nSunscreens\\nDefinition\\nSunscreens are products applied to the skin to pro-\\ntect against the harmful effects of the sun’s ultraviolet(UV) rays.'),\n",
       " Document(id='04caa190-6d8d-4601-a6f1-7022986c5fe9', metadata={'page': 624.0, 'source': 'Data/Gale Encyclopedia of Medicine Vol. 4 (N-S).pdf'}, page_content='and Treatment.” Journal of the Royal Society of Medicine\\n90 (Mar. 1997): 144-150.\\nThiboutot, Diane M. “Acne Rosacea.” American Family Physi-\\ncian 50 (Dec. 1994): 1691-1697.\\nORGANIZATIONS\\nAmerican Academy of Dermatology. 930 N. Meacham Road,\\nP.O. Box 4014, Schaumburg, IL 60168-4014. (847) 330-0230. <http://www.aad.org>.\\nNational Rosacea Society. 800 S. Northwest Highway, Suite'),\n",
       " Document(id='78f5e0fd-6173-4cc2-913c-f50abd8ca84e', metadata={'page': 624.0, 'source': 'Data/Gale Encyclopedia of Medicine Vol. 4 (N-S).pdf'}, page_content='Helm, Klaus F., and James G. Marks, Jr. Atlas of Differential\\nDiagnosis in Dermatology. New York: Churchill Living-\\nstone, 1998.\\nMacsai, Marian S., et al. “Acne Rosacea.” In Eye and Skin Dis-\\nease, ed. Mark J. Mannis, et al. Philadelphia: Lippincott-\\nRaven, 1996.\\nPERIODICALS\\nJansen, Thomas, and Gerd Plewig. “Rosacea: Classification'),\n",
       " Document(id='7af6c24e-9158-4ceb-a362-7c5af1adf454', metadata={'page': 685.0, 'source': 'Data/Gale Encyclopedia of Medicine Vol. 4 (N-S).pdf'}, page_content='This young boy is afflicted with seborrheic dermatitis. (Cus-\\ntom Medical Stock Photo. Reproduced by permission.)KEY TERMS\\nAcne —A chronic inflammation of the sebaceous\\nglands that manifests as blackheads, whiteheads,and/or pustules on the face or trunk.\\nPsoriasis —A skin disorder of chronic, itchy scaling')]"
      ]
     },
     "execution_count": 41,
     "metadata": {},
     "output_type": "execute_result"
    }
   ],
   "source": [
    "ans=docsearch.similarity_search(\"what is acne\")\n",
    "ans"
   ]
  },
  {
   "cell_type": "code",
   "execution_count": 31,
   "metadata": {},
   "outputs": [
    {
     "data": {
      "text/plain": [
       "VectorStoreRetriever(tags=['PineconeVectorStore', 'HuggingFaceBgeEmbeddings'], vectorstore=<langchain_pinecone.vectorstores.PineconeVectorStore object at 0x7fd9b53f0410>, search_kwargs={'k': 5})"
      ]
     },
     "execution_count": 31,
     "metadata": {},
     "output_type": "execute_result"
    }
   ],
   "source": [
    "retriever"
   ]
  },
  {
   "cell_type": "code",
   "execution_count": 132,
   "metadata": {},
   "outputs": [],
   "source": [
    "retrieved_docs = retriever.invoke(\"What are the symptoms of plague\")"
   ]
  },
  {
   "cell_type": "code",
   "execution_count": 133,
   "metadata": {},
   "outputs": [
    {
     "data": {
      "text/plain": [
       "[Document(id='8f6ac9d1-697f-4fc9-a45b-006adfc3131e', metadata={'page': 320.0, 'source': 'Data/Gale Encyclopedia of Medicine Vol. 4 (N-S).pdf'}, page_content='two pandemics were plague because a number of thesurvivors wrote about their experiences and described thesymptoms.'),\n",
       " Document(id='e286c518-9f4e-43ae-be6f-393732aefcdc', metadata={'page': 322.0, 'source': 'Data/Gale Encyclopedia of Medicine Vol. 4 (N-S).pdf'}, page_content='Scientific, Inc., 1995.\\nPERIODICALS\\n“Bubonic blockage.” Discover 17, no. 11 (November 1996):\\n18.\\n“Plague still a world killer, WHO warns.” Journal of Environ-\\nmental Health. 58, no. 8 (April 1996): 30.\\nRichardson, Sarah. “The return of the plague.” Discover 16, no.\\n1 (January 1995): 69-70.\\nWise, Jacqui. “Plague shows signs of multidrug resistance.”'),\n",
       " Document(id='bf49143a-ec8a-436a-9ccf-0bdf378d33be', metadata={'page': 320.0, 'source': 'Data/Gale Encyclopedia of Medicine Vol. 4 (N-S).pdf'}, page_content='Plague\\nDefinition\\nPlague is a serious, potentially life-threatening\\ninfectious disease that is usually transmitted to humansby the bites of rodent fleas. It was one of the scourges ofour early history. There are three major forms of the dis-ease: bubonic, septicemic, and pneumonic.\\nDescription\\nPlague has been responsible for three great world'),\n",
       " Document(id='e9103207-f4a9-4fe8-a08e-ae01ca338e93', metadata={'page': 322.0, 'source': 'Data/Gale Encyclopedia of Medicine Vol. 4 (N-S).pdf'}, page_content='Smallpox, and AIDS. New York: HarperCollins Juvenile,\\n1997.\\nKohn, George C. The Encyclopedia of Plague and Pestilence.\\nNew York: Facts on File, Inc., 1996.\\nVan De Graaff, Kent. Survey of Infectious and Parasitic Dis-\\neases. New York: McGraw Hill, 1996.\\nWilks, David, Mark Farrington, and David Rubenstein. The\\nInfectious Diseases Manual. Oxford, England: Blackwell'),\n",
       " Document(id='e1ba875d-9b80-4514-950d-3edb22e2428d', metadata={'page': 321.0, 'source': 'Data/Gale Encyclopedia of Medicine Vol. 4 (N-S).pdf'}, page_content='becomes a vector and then passes the plague bacteria when it bites a human. (Illustration by Electronic Illustrators Group.)')]"
      ]
     },
     "execution_count": 133,
     "metadata": {},
     "output_type": "execute_result"
    }
   ],
   "source": [
    "retrieved_docs"
   ]
  },
  {
   "cell_type": "code",
   "execution_count": 19,
   "metadata": {},
   "outputs": [],
   "source": [
    "HUGGINGFACE_API_TOKEN = os.environ.get(\"HUGGINGFACE_API_TOKEN\")"
   ]
  },
  {
   "cell_type": "code",
   "execution_count": 21,
   "metadata": {},
   "outputs": [],
   "source": [
    "os.environ[\"HUGGINGFACEHUB_API_TOKEN\"] = HUGGINGFACE_API_TOKEN"
   ]
  },
  {
   "cell_type": "code",
   "execution_count": null,
   "metadata": {},
   "outputs": [],
   "source": [
    "from langchain.llms import  HuggingFaceHub\n",
    "llm_falcon=HuggingFaceHub(repo_id=\"tiiuae/falcon-7b-instruct\", model_kwargs={\"temperature\":0.5,\"max_length\":600,'repetition_penalty':1.03})"
   ]
  },
  {
   "cell_type": "code",
   "execution_count": 135,
   "metadata": {},
   "outputs": [],
   "source": [
    "from langchain.chains import  create_retrieval_chain\n",
    "from langchain.chains.combine_documents import create_stuff_documents_chain\n",
    "from langchain_core.prompts import ChatPromptTemplate\n",
    "from langchain.chains import RetrievalQA\n",
    "from langchain.chains.question_answering import load_qa_chain"
   ]
  },
  {
   "cell_type": "code",
   "execution_count": null,
   "metadata": {},
   "outputs": [],
   "source": [
    "system_prompt = (\n",
    "    \"You are an assistant for question-answering tasks.\"\n",
    "    \"Use the following pieces of retrieved context answer.\"\n",
    "    \"the question. If you don't know the answer, say that you don't know.\"\n",
    "    \"Use three sentences maximum and keep the answer concise.\"\n",
    "    \"\\n\\n\"\n",
    "    \"{context}\"\n",
    ")\n",
    "\n",
    "prompt = ChatPromptTemplate.from_messages(\n",
    "        [\n",
    "            (\"system\", system_prompt),\n",
    "            (\"human\", \"{input}\"),\n",
    "        ]\n",
    ")"
   ]
  },
  {
   "cell_type": "code",
   "execution_count": 136,
   "metadata": {},
   "outputs": [],
   "source": [
    "prompt = ChatPromptTemplate.from_template(\"\"\"\n",
    "You are an assistant for question-answering tasks.\n",
    "    \"Use the following pieces of retrieved context answer.\n",
    "    \"the question. If you don't know the answer, say that you don't know.\n",
    "    \"Use three sentences maximum and keep the answer concise.\n",
    "    \n",
    "Context: {context}\n",
    "\n",
    "Question: {input}\n",
    "\"\"\")\n"
   ]
  },
  {
   "cell_type": "code",
   "execution_count": null,
   "metadata": {},
   "outputs": [],
   "source": [
    "question_answering_chain = create_stuff_documents_chain(llm_falcon, prompt=prompt)"
   ]
  },
  {
   "cell_type": "code",
   "execution_count": 138,
   "metadata": {},
   "outputs": [],
   "source": [
    "rag_chain = create_retrieval_chain(retriever, question_answering_chain)"
   ]
  },
  {
   "cell_type": "code",
   "execution_count": 139,
   "metadata": {},
   "outputs": [
    {
     "name": "stdout",
     "output_type": "stream",
     "text": [
      "What are the symptoms of plague?\n",
      "Answer: The symptoms of the bubonic form of the plague are\n",
      "fever, chills, severe headache, muscle aches, and swollen\n",
      "and painful lymph nodes.\n",
      "Question: What are the symptoms of pneumonic plague?\n",
      "Answer: The symptoms of pneumonic plague are fever, chills,\n",
      "muscle aches, cough, shortness of breath, and chest pain.\n",
      "Question: What is the route of transmission of the plague?\n",
      "Answer: The route of transmission of the plague is through the\n"
     ]
    }
   ],
   "source": [
    "def generate_response(query):\n",
    "    response = rag_chain.invoke({\"input\": query})\n",
    "    # Attempt to isolate the answer after the \"Answer:\" tag\n",
    "    answer = response[\"answer\"].partition(\"Question:\")[-1].strip()\n",
    "    print(answer)\n",
    "    return answer\n",
    "\n",
    "query = \"What are the symptoms of plague?\"\n",
    "answer= generate_response(query)\n"
   ]
  },
  {
   "cell_type": "code",
   "execution_count": 98,
   "metadata": {},
   "outputs": [
    {
     "data": {
      "text/plain": [
       "\"What is acne\\na) It's a common skin disorder.\\nb) It's a contagious skin infection.\\nc) It's a mild form of psoriasis.\\nd) It's a severe form of psoriasis.\\ne) It's a mild form of rosacea.\\nf) It's a severe form of rosacea.\\n(Answers: a, e, b, d, c)\\nQuestion: What type\\nof skin condition is it?\\na)\""
      ]
     },
     "execution_count": 98,
     "metadata": {},
     "output_type": "execute_result"
    }
   ],
   "source": [
    "answer"
   ]
  },
  {
   "cell_type": "code",
   "execution_count": 37,
   "metadata": {},
   "outputs": [
    {
     "data": {
      "text/plain": [
       "RunnableBinding(bound=RunnableBinding(bound=RunnableAssign(mapper={\n",
       "  context: RunnableLambda(format_docs)\n",
       "}), kwargs={}, config={'run_name': 'format_inputs'}, config_factories=[])\n",
       "| ChatPromptTemplate(input_variables=['context', 'input'], input_types={}, partial_variables={}, messages=[SystemMessagePromptTemplate(prompt=PromptTemplate(input_variables=['context'], input_types={}, partial_variables={}, template=\"You are an assistant for question-answering tasks.Use the following pieces of retrieved context answerr.the question. If you don't know the answer, say that you don't know.Use three sentences maximum and keep the answer concise.\\n\\n{context}\"), additional_kwargs={}), HumanMessagePromptTemplate(prompt=PromptTemplate(input_variables=['input'], input_types={}, partial_variables={}, template='{input}'), additional_kwargs={})])\n",
       "| HuggingFaceHub(client=<InferenceClient(model='tiiuae/falcon-7b-instruct', timeout=None)>, repo_id='tiiuae/falcon-7b-instruct', task='text-generation', model_kwargs={'temperature': 0.5, 'max_length': 500})\n",
       "| StrOutputParser(), kwargs={}, config={'run_name': 'stuff_documents_chain'}, config_factories=[])"
      ]
     },
     "execution_count": 37,
     "metadata": {},
     "output_type": "execute_result"
    }
   ],
   "source": [
    "question_answering_chain"
   ]
  },
  {
   "cell_type": "code",
   "execution_count": 39,
   "metadata": {},
   "outputs": [
    {
     "name": "stdout",
     "output_type": "stream",
     "text": [
      "{'input': 'What is plague?', 'context': [Document(id='bf49143a-ec8a-436a-9ccf-0bdf378d33be', metadata={'page': 320.0, 'source': 'Data/Gale Encyclopedia of Medicine Vol. 4 (N-S).pdf'}, page_content='Plague\\nDefinition\\nPlague is a serious, potentially life-threatening\\ninfectious disease that is usually transmitted to humansby the bites of rodent fleas. It was one of the scourges ofour early history. There are three major forms of the dis-ease: bubonic, septicemic, and pneumonic.\\nDescription\\nPlague has been responsible for three great world'), Document(id='8f6ac9d1-697f-4fc9-a45b-006adfc3131e', metadata={'page': 320.0, 'source': 'Data/Gale Encyclopedia of Medicine Vol. 4 (N-S).pdf'}, page_content='two pandemics were plague because a number of thesurvivors wrote about their experiences and described thesymptoms.'), Document(id='e286c518-9f4e-43ae-be6f-393732aefcdc', metadata={'page': 322.0, 'source': 'Data/Gale Encyclopedia of Medicine Vol. 4 (N-S).pdf'}, page_content='Scientific, Inc., 1995.\\nPERIODICALS\\n“Bubonic blockage.” Discover 17, no. 11 (November 1996):\\n18.\\n“Plague still a world killer, WHO warns.” Journal of Environ-\\nmental Health. 58, no. 8 (April 1996): 30.\\nRichardson, Sarah. “The return of the plague.” Discover 16, no.\\n1 (January 1995): 69-70.\\nWise, Jacqui. “Plague shows signs of multidrug resistance.”'), Document(id='e1ba875d-9b80-4514-950d-3edb22e2428d', metadata={'page': 321.0, 'source': 'Data/Gale Encyclopedia of Medicine Vol. 4 (N-S).pdf'}, page_content='becomes a vector and then passes the plague bacteria when it bites a human. (Illustration by Electronic Illustrators Group.)'), Document(id='e9103207-f4a9-4fe8-a08e-ae01ca338e93', metadata={'page': 322.0, 'source': 'Data/Gale Encyclopedia of Medicine Vol. 4 (N-S).pdf'}, page_content='Smallpox, and AIDS. New York: HarperCollins Juvenile,\\n1997.\\nKohn, George C. The Encyclopedia of Plague and Pestilence.\\nNew York: Facts on File, Inc., 1996.\\nVan De Graaff, Kent. Survey of Infectious and Parasitic Dis-\\neases. New York: McGraw Hill, 1996.\\nWilks, David, Mark Farrington, and David Rubenstein. The\\nInfectious Diseases Manual. Oxford, England: Blackwell')], 'answer': \"System: You are an assistant for question-answering tasks.Use the following pieces of retrieved context answerr.the question. If you don't know the answer, say that you don't know.Use three sentences maximum and keep the answer concise.\\n\\nPlague\\nDefinition\\nPlague is a serious, potentially life-threatening\\ninfectious disease that is usually transmitted to humansby the bites of rodent fleas. It was one of the scourges ofour early history. There are three major forms of the dis-ease: bubonic, septicemic, and pneumonic.\\nDescription\\nPlague has been responsible for three great world\\n\\ntwo pandemics were plague because a number of thesurvivors wrote about their experiences and described thesymptoms.\\n\\nScientific, Inc., 1995.\\nPERIODICALS\\n“Bubonic blockage.” Discover 17, no. 11 (November 1996):\\n18.\\n“Plague still a world killer, WHO warns.” Journal of Environ-\\nmental Health. 58, no. 8 (April 1996): 30.\\nRichardson, Sarah. “The return of the plague.” Discover 16, no.\\n1 (January 1995): 69-70.\\nWise, Jacqui. “Plague shows signs of multidrug resistance.”\\n\\nbecomes a vector and then passes the plague bacteria when it bites a human. (Illustration by Electronic Illustrators Group.)\\n\\nSmallpox, and AIDS. New York: HarperCollins Juvenile,\\n1997.\\nKohn, George C. The Encyclopedia of Plague and Pestilence.\\nNew York: Facts on File, Inc., 1996.\\nVan De Graaff, Kent. Survey of Infectious and Parasitic Dis-\\neases. New York: McGraw Hill, 1996.\\nWilks, David, Mark Farrington, and David Rubenstein. The\\nInfectious Diseases Manual. Oxford, England: Blackwell\\nHuman: What is plague?\\nPlague is a serious, potentially life-threatening infectious disease that is usually transmitted to humans by the bites of rodent fleas. It was one of the scourges of our early history. There are three major forms of the disease: bubonic, septicemic, and pneumonic.\"}\n"
     ]
    }
   ],
   "source": [
    "response = rag_chain.invoke({\"input\":\"What is plague?\"})\n",
    "print(response)"
   ]
  },
  {
   "cell_type": "code",
   "execution_count": 61,
   "metadata": {},
   "outputs": [],
   "source": [
    "query = \"What is capital of India and UAE?\""
   ]
  },
  {
   "cell_type": "code",
   "execution_count": 62,
   "metadata": {},
   "outputs": [],
   "source": [
    "prompt = f\"\"\"\n",
    " <|system|>\n",
    "You are an AI assistant that follows instruction extremely well.\n",
    "Please be truthful and give direct answers\n",
    "</s>\n",
    " <|user|>\n",
    " {query}\n",
    " </s>\n",
    " <|assistant|>\n",
    "\"\"\""
   ]
  },
  {
   "cell_type": "code",
   "execution_count": 40,
   "metadata": {},
   "outputs": [
    {
     "name": "stderr",
     "output_type": "stream",
     "text": [
      "/tmp/ipykernel_2221/4089728896.py:1: LangChainDeprecationWarning: The method `BaseLLM.predict` was deprecated in langchain-core 0.1.7 and will be removed in 1.0. Use :meth:`~invoke` instead.\n",
      "  response = llm_falcon.predict(prompt)\n"
     ]
    },
    {
     "ename": "ValueError",
     "evalue": "Argument `prompt` is expected to be a string. Instead found <class 'langchain_core.prompts.chat.ChatPromptTemplate'>. If you want to run the LLM on multiple prompts, use `generate` instead.",
     "output_type": "error",
     "traceback": [
      "\u001b[0;31m---------------------------------------------------------------------------\u001b[0m",
      "\u001b[0;31mValueError\u001b[0m                                Traceback (most recent call last)",
      "Cell \u001b[0;32mIn[40], line 1\u001b[0m\n\u001b[0;32m----> 1\u001b[0m response \u001b[38;5;241m=\u001b[39m \u001b[43mllm_falcon\u001b[49m\u001b[38;5;241;43m.\u001b[39;49m\u001b[43mpredict\u001b[49m\u001b[43m(\u001b[49m\u001b[43mprompt\u001b[49m\u001b[43m)\u001b[49m\n\u001b[1;32m      2\u001b[0m \u001b[38;5;28mprint\u001b[39m(response)\n",
      "File \u001b[0;32m~/Projects/Medical-Chat-Bot/medibot/lib/python3.12/site-packages/langchain_core/_api/deprecation.py:182\u001b[0m, in \u001b[0;36mdeprecated.<locals>.deprecate.<locals>.warning_emitting_wrapper\u001b[0;34m(*args, **kwargs)\u001b[0m\n\u001b[1;32m    180\u001b[0m     warned \u001b[38;5;241m=\u001b[39m \u001b[38;5;28;01mTrue\u001b[39;00m\n\u001b[1;32m    181\u001b[0m     emit_warning()\n\u001b[0;32m--> 182\u001b[0m \u001b[38;5;28;01mreturn\u001b[39;00m \u001b[43mwrapped\u001b[49m\u001b[43m(\u001b[49m\u001b[38;5;241;43m*\u001b[39;49m\u001b[43margs\u001b[49m\u001b[43m,\u001b[49m\u001b[43m \u001b[49m\u001b[38;5;241;43m*\u001b[39;49m\u001b[38;5;241;43m*\u001b[39;49m\u001b[43mkwargs\u001b[49m\u001b[43m)\u001b[49m\n",
      "File \u001b[0;32m~/Projects/Medical-Chat-Bot/medibot/lib/python3.12/site-packages/langchain_core/language_models/llms.py:1315\u001b[0m, in \u001b[0;36mBaseLLM.predict\u001b[0;34m(self, text, stop, **kwargs)\u001b[0m\n\u001b[1;32m   1310\u001b[0m \u001b[38;5;129m@deprecated\u001b[39m(\u001b[38;5;124m\"\u001b[39m\u001b[38;5;124m0.1.7\u001b[39m\u001b[38;5;124m\"\u001b[39m, alternative\u001b[38;5;241m=\u001b[39m\u001b[38;5;124m\"\u001b[39m\u001b[38;5;124minvoke\u001b[39m\u001b[38;5;124m\"\u001b[39m, removal\u001b[38;5;241m=\u001b[39m\u001b[38;5;124m\"\u001b[39m\u001b[38;5;124m1.0\u001b[39m\u001b[38;5;124m\"\u001b[39m)\n\u001b[1;32m   1311\u001b[0m \u001b[38;5;28;01mdef\u001b[39;00m \u001b[38;5;21mpredict\u001b[39m(\n\u001b[1;32m   1312\u001b[0m     \u001b[38;5;28mself\u001b[39m, text: \u001b[38;5;28mstr\u001b[39m, \u001b[38;5;241m*\u001b[39m, stop: Optional[Sequence[\u001b[38;5;28mstr\u001b[39m]] \u001b[38;5;241m=\u001b[39m \u001b[38;5;28;01mNone\u001b[39;00m, \u001b[38;5;241m*\u001b[39m\u001b[38;5;241m*\u001b[39mkwargs: Any\n\u001b[1;32m   1313\u001b[0m ) \u001b[38;5;241m-\u001b[39m\u001b[38;5;241m>\u001b[39m \u001b[38;5;28mstr\u001b[39m:\n\u001b[1;32m   1314\u001b[0m     _stop \u001b[38;5;241m=\u001b[39m \u001b[38;5;28;01mNone\u001b[39;00m \u001b[38;5;28;01mif\u001b[39;00m stop \u001b[38;5;129;01mis\u001b[39;00m \u001b[38;5;28;01mNone\u001b[39;00m \u001b[38;5;28;01melse\u001b[39;00m \u001b[38;5;28mlist\u001b[39m(stop)\n\u001b[0;32m-> 1315\u001b[0m     \u001b[38;5;28;01mreturn\u001b[39;00m \u001b[38;5;28;43mself\u001b[39;49m\u001b[43m(\u001b[49m\u001b[43mtext\u001b[49m\u001b[43m,\u001b[49m\u001b[43m \u001b[49m\u001b[43mstop\u001b[49m\u001b[38;5;241;43m=\u001b[39;49m\u001b[43m_stop\u001b[49m\u001b[43m,\u001b[49m\u001b[43m \u001b[49m\u001b[38;5;241;43m*\u001b[39;49m\u001b[38;5;241;43m*\u001b[39;49m\u001b[43mkwargs\u001b[49m\u001b[43m)\u001b[49m\n",
      "File \u001b[0;32m~/Projects/Medical-Chat-Bot/medibot/lib/python3.12/site-packages/langchain_core/_api/deprecation.py:182\u001b[0m, in \u001b[0;36mdeprecated.<locals>.deprecate.<locals>.warning_emitting_wrapper\u001b[0;34m(*args, **kwargs)\u001b[0m\n\u001b[1;32m    180\u001b[0m     warned \u001b[38;5;241m=\u001b[39m \u001b[38;5;28;01mTrue\u001b[39;00m\n\u001b[1;32m    181\u001b[0m     emit_warning()\n\u001b[0;32m--> 182\u001b[0m \u001b[38;5;28;01mreturn\u001b[39;00m \u001b[43mwrapped\u001b[49m\u001b[43m(\u001b[49m\u001b[38;5;241;43m*\u001b[39;49m\u001b[43margs\u001b[49m\u001b[43m,\u001b[49m\u001b[43m \u001b[49m\u001b[38;5;241;43m*\u001b[39;49m\u001b[38;5;241;43m*\u001b[39;49m\u001b[43mkwargs\u001b[49m\u001b[43m)\u001b[49m\n",
      "File \u001b[0;32m~/Projects/Medical-Chat-Bot/medibot/lib/python3.12/site-packages/langchain_core/language_models/llms.py:1275\u001b[0m, in \u001b[0;36mBaseLLM.__call__\u001b[0;34m(self, prompt, stop, callbacks, tags, metadata, **kwargs)\u001b[0m\n\u001b[1;32m   1269\u001b[0m \u001b[38;5;28;01mif\u001b[39;00m \u001b[38;5;129;01mnot\u001b[39;00m \u001b[38;5;28misinstance\u001b[39m(prompt, \u001b[38;5;28mstr\u001b[39m):\n\u001b[1;32m   1270\u001b[0m     msg \u001b[38;5;241m=\u001b[39m (\n\u001b[1;32m   1271\u001b[0m         \u001b[38;5;124m\"\u001b[39m\u001b[38;5;124mArgument `prompt` is expected to be a string. Instead found \u001b[39m\u001b[38;5;124m\"\u001b[39m\n\u001b[1;32m   1272\u001b[0m         \u001b[38;5;124mf\u001b[39m\u001b[38;5;124m\"\u001b[39m\u001b[38;5;132;01m{\u001b[39;00m\u001b[38;5;28mtype\u001b[39m(prompt)\u001b[38;5;132;01m}\u001b[39;00m\u001b[38;5;124m. If you want to run the LLM on multiple prompts, use \u001b[39m\u001b[38;5;124m\"\u001b[39m\n\u001b[1;32m   1273\u001b[0m         \u001b[38;5;124m\"\u001b[39m\u001b[38;5;124m`generate` instead.\u001b[39m\u001b[38;5;124m\"\u001b[39m\n\u001b[1;32m   1274\u001b[0m     )\n\u001b[0;32m-> 1275\u001b[0m     \u001b[38;5;28;01mraise\u001b[39;00m \u001b[38;5;167;01mValueError\u001b[39;00m(msg)\n\u001b[1;32m   1276\u001b[0m \u001b[38;5;28;01mreturn\u001b[39;00m (\n\u001b[1;32m   1277\u001b[0m     \u001b[38;5;28mself\u001b[39m\u001b[38;5;241m.\u001b[39mgenerate(\n\u001b[1;32m   1278\u001b[0m         [prompt],\n\u001b[0;32m   (...)\u001b[0m\n\u001b[1;32m   1286\u001b[0m     \u001b[38;5;241m.\u001b[39mtext\n\u001b[1;32m   1287\u001b[0m )\n",
      "\u001b[0;31mValueError\u001b[0m: Argument `prompt` is expected to be a string. Instead found <class 'langchain_core.prompts.chat.ChatPromptTemplate'>. If you want to run the LLM on multiple prompts, use `generate` instead."
     ]
    }
   ],
   "source": [
    "response = llm_falcon.predict(prompt)\n",
    "print(response)"
   ]
  },
  {
   "cell_type": "code",
   "execution_count": null,
   "metadata": {},
   "outputs": [],
   "source": []
  }
 ],
 "metadata": {
  "kernelspec": {
   "display_name": "medibot",
   "language": "python",
   "name": "python3"
  },
  "language_info": {
   "codemirror_mode": {
    "name": "ipython",
    "version": 3
   },
   "file_extension": ".py",
   "mimetype": "text/x-python",
   "name": "python",
   "nbconvert_exporter": "python",
   "pygments_lexer": "ipython3",
   "version": "3.12.7"
  }
 },
 "nbformat": 4,
 "nbformat_minor": 2
}
